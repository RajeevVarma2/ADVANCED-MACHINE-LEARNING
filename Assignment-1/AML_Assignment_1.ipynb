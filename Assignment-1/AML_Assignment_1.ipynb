{
  "nbformat": 4,
  "nbformat_minor": 0,
  "metadata": {
    "colab": {
      "provenance": []
    },
    "kernelspec": {
      "name": "python3",
      "display_name": "Python 3"
    },
    "language_info": {
      "name": "python"
    }
  },
  "cells": [
    {
      "cell_type": "code",
      "execution_count": 17,
      "metadata": {
        "id": "8NioEdtuWegh"
      },
      "outputs": [],
      "source": [
        "from sklearn.datasets import make_blobs\n",
        "import matplotlib.pyplot as plt\n",
        "import numpy as np\n",
        "\n",
        "centers = [[2, 4], [6, 6], [1, 9]]\n",
        "n_classes = len(centers)\n",
        "data, labels = make_blobs(n_samples=150, \n",
        "                          centers=np.array(centers),\n",
        "                          random_state=1)"
      ]
    },
    {
      "cell_type": "code",
      "source": [
        "#Dividing the data into train and test(80-20)\n",
        "from sklearn.model_selection import train_test_split\n",
        "from sklearn.neighbors import KNeighborsClassifier\n",
        "from sklearn.metrics import accuracy_score\n",
        "\n",
        "X_train, X_test, y_train, y_test = train_test_split(data, labels, test_size=0.2, random_state=1)"
      ],
      "metadata": {
        "id": "ziG1aBqpanOO"
      },
      "execution_count": 18,
      "outputs": []
    },
    {
      "cell_type": "code",
      "source": [
        "# output accuracy score\n",
        "# Performing a KNN Algorithm when k=5\n",
        "knn = KNeighborsClassifier(n_neighbors=5)\n",
        "knn.fit(X_train, y_train)\n",
        "y_pred = knn.predict(X_test)\n",
        "\n",
        "accuracy = accuracy_score(y_test, y_pred)\n",
        "print(\"Accuracy:\", accuracy)\n",
        "# When k=5 the accuracy is 1.00 or 100%"
      ],
      "metadata": {
        "id": "soofgca_ZR6f",
        "colab": {
          "base_uri": "https://localhost:8080/"
        },
        "outputId": "29f88c4c-25a0-455c-b653-b6273f23d833"
      },
      "execution_count": 19,
      "outputs": [
        {
          "output_type": "stream",
          "name": "stdout",
          "text": [
            "Accuracy: 1.0\n"
          ]
        }
      ]
    },
    {
      "cell_type": "code",
      "source": [
        "# plot your different results\n",
        "h = 0.02  # step size in the mesh\n",
        "\n",
        "x_min, x_max = data[:, 0].min() - 1, data[:, 0].max() + 1\n",
        "y_min, y_max = data[:, 1].min() - 1, data[:, 1].max() + 1\n",
        "xx, yy = np.meshgrid(np.arange(x_min, x_max, h), np.arange(y_min, y_max, h))\n",
        "Z = knn.predict(np.c_[xx.ravel(), yy.ravel()])\n",
        "Z = Z.reshape(xx.shape)\n",
        "\n",
        "plt.figure()\n",
        "plt.pcolormesh(xx, yy, Z, cmap=plt.cm.Paired)"
      ],
      "metadata": {
        "colab": {
          "base_uri": "https://localhost:8080/",
          "height": 282
        },
        "id": "aCJph57GZZHC",
        "outputId": "26ce9c81-83c8-4cb5-f17f-db2558100d96"
      },
      "execution_count": 16,
      "outputs": [
        {
          "output_type": "execute_result",
          "data": {
            "text/plain": [
              "<matplotlib.collections.QuadMesh at 0x7f3720d8a0a0>"
            ]
          },
          "metadata": {},
          "execution_count": 16
        },
        {
          "output_type": "display_data",
          "data": {
            "text/plain": [
              "<Figure size 432x288 with 1 Axes>"
            ],
            "image/png": "[encoded data removed]"
          },
          "metadata": {
            "needs_background": "light"
          }
        }
      ]
    },
    {
      "cell_type": "code",
      "source": [
        "# plot the training points\n",
        "for i, color in zip(range(n_classes), \"bgr\"):\n",
        "    idx = np.where(y_train == i)\n",
        "    plt.scatter(X_train[idx, 0], X_train[idx, 1], c=color, label=\"Class %d\" % i,\n",
        "                cmap=plt.cm.Paired, edgecolor=\"black\", s=20)\n",
        "    # plot the testing points\n",
        "for i, color in zip(range(n_classes), \"bgr\"):\n",
        "    idx = np.where(y_test == i)\n",
        "    plt.scatter(X_test[idx, 0], X_test[idx, 1], c=color, marker=\"s\", label=\"Test Class %d\" % i,\n",
        "                cmap=plt.cm.Paired, edgecolor=\"black\", s=40)\n",
        "    plt.title(\"KNN classification (k = %i)\" % knn.n_neighbors)\n",
        "plt.xlabel(\"Feature 1\")\n",
        "plt.ylabel(\"Feature 2\")\n",
        "plt.legend()\n",
        "plt.show()\n",
        "    "
      ],
      "metadata": {
        "colab": {
          "base_uri": "https://localhost:8080/",
          "height": 295
        },
        "id": "C4zmzBTpZSr0",
        "outputId": "60101031-6a5d-4250-d021-824439402724"
      },
      "execution_count": 15,
      "outputs": [
        {
          "output_type": "display_data",
          "data": {
            "text/plain": [
              "<Figure size 432x288 with 1 Axes>"
            ],
            "image/png": "[encoded data removed]"
          },
          "metadata": {
            "needs_background": "light"
          }
        }
      ]
    }
  ]
}